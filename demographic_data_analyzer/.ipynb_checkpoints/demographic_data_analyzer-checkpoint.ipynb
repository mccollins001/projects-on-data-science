{
 "cells": [
  {
   "cell_type": "markdown",
   "id": "975fab0a-d0b3-4a8b-89ab-db753cbfaa08",
   "metadata": {},
   "source": [
    "# DEMOGRAPHIC DATA ANALYZER"
   ]
  },
  {
   "cell_type": "markdown",
   "id": "315fdd5d-5c47-4015-aaca-bec6c99fc3b0",
   "metadata": {},
   "source": [
    "## Import libraries"
   ]
  },
  {
   "cell_type": "code",
   "execution_count": null,
   "id": "6c7acb24-516e-46b9-bb72-432eef4f0cc6",
   "metadata": {},
   "outputs": [],
   "source": [
    "import pandas as pd\n",
    "import numpy as np"
   ]
  },
  {
   "cell_type": "markdown",
   "id": "c6444ced-ba88-4402-a018-9da0fcc0e557",
   "metadata": {},
   "source": [
    "## import csv file"
   ]
  },
  {
   "cell_type": "markdown",
   "id": "7dd5b3bd-2c7c-468a-b608-6493c8b2aa38",
   "metadata": {},
   "source": [
    "df = pd.read_csv('adult.data.csv')"
   ]
  },
  {
   "cell_type": "markdown",
   "id": "79728d81-734c-4935-8c3c-92775b30c21e",
   "metadata": {},
   "source": [
    "## First 5 rows"
   ]
  },
  {
   "cell_type": "code",
   "execution_count": 3,
   "id": "d248e3d3-3c34-41fc-a886-e825a6386a52",
   "metadata": {},
   "outputs": [
    {
     "data": {
      "text/html": [
       "<div>\n",
       "<style scoped>\n",
       "    .dataframe tbody tr th:only-of-type {\n",
       "        vertical-align: middle;\n",
       "    }\n",
       "\n",
       "    .dataframe tbody tr th {\n",
       "        vertical-align: top;\n",
       "    }\n",
       "\n",
       "    .dataframe thead th {\n",
       "        text-align: right;\n",
       "    }\n",
       "</style>\n",
       "<table border=\"1\" class=\"dataframe\">\n",
       "  <thead>\n",
       "    <tr style=\"text-align: right;\">\n",
       "      <th></th>\n",
       "      <th>age</th>\n",
       "      <th>workclass</th>\n",
       "      <th>fnlwgt</th>\n",
       "      <th>education</th>\n",
       "      <th>education-num</th>\n",
       "      <th>marital-status</th>\n",
       "      <th>occupation</th>\n",
       "      <th>relationship</th>\n",
       "      <th>race</th>\n",
       "      <th>sex</th>\n",
       "      <th>capital-gain</th>\n",
       "      <th>capital-loss</th>\n",
       "      <th>hours-per-week</th>\n",
       "      <th>native-country</th>\n",
       "      <th>salary</th>\n",
       "    </tr>\n",
       "  </thead>\n",
       "  <tbody>\n",
       "    <tr>\n",
       "      <th>0</th>\n",
       "      <td>39</td>\n",
       "      <td>State-gov</td>\n",
       "      <td>77516</td>\n",
       "      <td>Bachelors</td>\n",
       "      <td>13</td>\n",
       "      <td>Never-married</td>\n",
       "      <td>Adm-clerical</td>\n",
       "      <td>Not-in-family</td>\n",
       "      <td>White</td>\n",
       "      <td>Male</td>\n",
       "      <td>2174</td>\n",
       "      <td>0</td>\n",
       "      <td>40</td>\n",
       "      <td>United-States</td>\n",
       "      <td>&lt;=50K</td>\n",
       "    </tr>\n",
       "    <tr>\n",
       "      <th>1</th>\n",
       "      <td>50</td>\n",
       "      <td>Self-emp-not-inc</td>\n",
       "      <td>83311</td>\n",
       "      <td>Bachelors</td>\n",
       "      <td>13</td>\n",
       "      <td>Married-civ-spouse</td>\n",
       "      <td>Exec-managerial</td>\n",
       "      <td>Husband</td>\n",
       "      <td>White</td>\n",
       "      <td>Male</td>\n",
       "      <td>0</td>\n",
       "      <td>0</td>\n",
       "      <td>13</td>\n",
       "      <td>United-States</td>\n",
       "      <td>&lt;=50K</td>\n",
       "    </tr>\n",
       "    <tr>\n",
       "      <th>2</th>\n",
       "      <td>38</td>\n",
       "      <td>Private</td>\n",
       "      <td>215646</td>\n",
       "      <td>HS-grad</td>\n",
       "      <td>9</td>\n",
       "      <td>Divorced</td>\n",
       "      <td>Handlers-cleaners</td>\n",
       "      <td>Not-in-family</td>\n",
       "      <td>White</td>\n",
       "      <td>Male</td>\n",
       "      <td>0</td>\n",
       "      <td>0</td>\n",
       "      <td>40</td>\n",
       "      <td>United-States</td>\n",
       "      <td>&lt;=50K</td>\n",
       "    </tr>\n",
       "  </tbody>\n",
       "</table>\n",
       "</div>"
      ],
      "text/plain": [
       "   age         workclass  fnlwgt  education  education-num  \\\n",
       "0   39         State-gov   77516  Bachelors             13   \n",
       "1   50  Self-emp-not-inc   83311  Bachelors             13   \n",
       "2   38           Private  215646    HS-grad              9   \n",
       "\n",
       "       marital-status         occupation   relationship   race   sex  \\\n",
       "0       Never-married       Adm-clerical  Not-in-family  White  Male   \n",
       "1  Married-civ-spouse    Exec-managerial        Husband  White  Male   \n",
       "2            Divorced  Handlers-cleaners  Not-in-family  White  Male   \n",
       "\n",
       "   capital-gain  capital-loss  hours-per-week native-country salary  \n",
       "0          2174             0              40  United-States  <=50K  \n",
       "1             0             0              13  United-States  <=50K  \n",
       "2             0             0              40  United-States  <=50K  "
      ]
     },
     "execution_count": 3,
     "metadata": {},
     "output_type": "execute_result"
    }
   ],
   "source": [
    "df.head()"
   ]
  },
  {
   "cell_type": "markdown",
   "id": "44b45ff3-b9e8-4fec-9581-c5d44f6a2b02",
   "metadata": {},
   "source": [
    "## Number of rows"
   ]
  },
  {
   "cell_type": "code",
   "execution_count": 4,
   "id": "2529e8fb-85d8-46e0-967b-17e0e8fcadbc",
   "metadata": {},
   "outputs": [
    {
     "data": {
      "text/plain": [
       "32561"
      ]
     },
     "execution_count": 4,
     "metadata": {},
     "output_type": "execute_result"
    }
   ],
   "source": [
    "df.shape[0]"
   ]
  },
  {
   "cell_type": "markdown",
   "id": "241fc8af-0f96-434c-b55c-95352dde11a4",
   "metadata": {},
   "source": [
    "### How many of each race are represented in this dataset? This should be a Pandas series with race names as the index labels."
   ]
  },
  {
   "cell_type": "code",
   "execution_count": 5,
   "id": "cb2bbdab-f59f-400b-b4e3-1375cc3f7448",
   "metadata": {},
   "outputs": [
    {
     "data": {
      "text/plain": [
       "White                 27816\n",
       "Black                  3124\n",
       "Asian-Pac-Islander     1039\n",
       "Amer-Indian-Eskimo      311\n",
       "Other                   271\n",
       "Name: race, dtype: int64"
      ]
     },
     "execution_count": 5,
     "metadata": {},
     "output_type": "execute_result"
    }
   ],
   "source": [
    "df.race.value_counts()"
   ]
  },
  {
   "cell_type": "markdown",
   "id": "bf69abfb-9e88-4400-afc9-709796867774",
   "metadata": {},
   "source": [
    "## What is the average age of men?"
   ]
  },
  {
   "cell_type": "code",
   "execution_count": 21,
   "id": "c9774ec0-3fe4-448d-9c58-aa86f6fc2ed7",
   "metadata": {},
   "outputs": [
    {
     "name": "stdout",
     "output_type": "stream",
     "text": [
      "average is 39.4\n"
     ]
    }
   ],
   "source": [
    "average_age_men = df[df['sex'] == 'Male']['age'].mean().round(1)\n",
    "print('average is', average_age_men)"
   ]
  },
  {
   "cell_type": "markdown",
   "id": "c868b16b-8d17-4d71-91ee-730310594966",
   "metadata": {},
   "source": [
    "## What is the percentage of people who have a Bachelor's degree?"
   ]
  },
  {
   "cell_type": "code",
   "execution_count": 20,
   "id": "39e72d12-311d-4afb-b535-50277bf42f75",
   "metadata": {},
   "outputs": [
    {
     "name": "stdout",
     "output_type": "stream",
     "text": [
      "16.4 %\n"
     ]
    }
   ],
   "source": [
    "sum_bachelors = df[df['education']== 'Bachelors'].value_counts().sum()\n",
    "sum_educ = df['education'].value_counts().sum()\n",
    "percentage_bachelors = round((sum_bachelors/sum_educ)* 100, 1)\n",
    "print(percentage_bachelors,'%')"
   ]
  },
  {
   "cell_type": "markdown",
   "id": "7308a200-11a9-4dfb-8800-36366c0a9ed0",
   "metadata": {},
   "source": [
    "### What percentage of people with advanced education (`Bachelors`, `Masters`, or `Doctorate`) make more than 50K?"
   ]
  },
  {
   "cell_type": "markdown",
   "id": "323fba94-6368-4d20-abd1-5905a6f49059",
   "metadata": {},
   "source": [
    "### What percentage of people without advanced education make more than 50K?"
   ]
  },
  {
   "cell_type": "code",
   "execution_count": null,
   "id": "a64d3c2f-f6be-4ff5-9a61-80549f0f0190",
   "metadata": {},
   "outputs": [],
   "source": []
  },
  {
   "cell_type": "markdown",
   "id": "16ae6d6f-afc7-44ca-b7aa-17572e3bd337",
   "metadata": {},
   "source": [
    "## with and without `Bachelors`, `Masters`, or `Doctorate`"
   ]
  },
  {
   "cell_type": "code",
   "execution_count": 8,
   "id": "503ce57e-5f96-4e74-a09a-7f46349b598f",
   "metadata": {},
   "outputs": [],
   "source": [
    "higher_education = df[df['education'].isin(['Bachelors', 'Masters','Doctorate'])]\n",
    "lower_education = df[~df['education'].isin(['Bachelors', 'Masters','Doctorate'])]"
   ]
  },
  {
   "cell_type": "markdown",
   "id": "2cacdd7d-6d4f-44cd-b043-aac1fc0953ab",
   "metadata": {},
   "source": [
    "## percentage with salary >50K"
   ]
  },
  {
   "cell_type": "code",
   "execution_count": 9,
   "id": "dadbcc69-e3e6-43ef-b74c-898e183560dd",
   "metadata": {},
   "outputs": [],
   "source": [
    "non_percent_high = len(higher_education[higher_education.salary == '>50K'])\n",
    "non_percent_low = lower_education[lower_education.salary == '>50K'].value_counts().sum()"
   ]
  },
  {
   "cell_type": "code",
   "execution_count": 22,
   "id": "5d41d54e-db97-464d-a337-f6118a7326b4",
   "metadata": {},
   "outputs": [
    {
     "name": "stdout",
     "output_type": "stream",
     "text": [
      "46.5 %\n"
     ]
    }
   ],
   "source": [
    "higher_education_rich = round((non_percent_high/len(higher_education))*100,1)\n",
    "print(higher_education_rich, '%')"
   ]
  },
  {
   "cell_type": "code",
   "execution_count": 23,
   "id": "f3a9b682-a5a6-47ff-bc91-e62245a932f6",
   "metadata": {},
   "outputs": [
    {
     "name": "stdout",
     "output_type": "stream",
     "text": [
      "17.4 %\n"
     ]
    }
   ],
   "source": [
    "lower_education_rich = round((non_percent_low/len(lower_education))*100,1)\n",
    "print(lower_education_rich, '%')"
   ]
  },
  {
   "cell_type": "markdown",
   "id": "47c3d61f-5f65-4e79-b299-1bb4980b0686",
   "metadata": {},
   "source": [
    "## What is the minimum number of hours a person works per week (hours-per-week feature)?"
   ]
  },
  {
   "cell_type": "code",
   "execution_count": 25,
   "id": "9b233e52-de94-45a1-b451-8fc17aab05de",
   "metadata": {},
   "outputs": [
    {
     "name": "stdout",
     "output_type": "stream",
     "text": [
      "1 hour-per-week\n"
     ]
    }
   ],
   "source": [
    "min_work_hours = df['hours-per-week'].min()\n",
    "print(min_work_hours, 'hour-per-week')"
   ]
  },
  {
   "cell_type": "markdown",
   "id": "5a1b7701-abb9-4561-abfc-c211b3c2b67e",
   "metadata": {},
   "source": [
    "## What percentage of the people who work the minimum number of hours per week have a salary of >50K?"
   ]
  },
  {
   "cell_type": "code",
   "execution_count": 12,
   "id": "fda2fe77-905f-44bd-b7bd-570e484a2e69",
   "metadata": {},
   "outputs": [],
   "source": [
    "num_min_workers = df[df['hours-per-week'] == min_work_hours]"
   ]
  },
  {
   "cell_type": "code",
   "execution_count": 18,
   "id": "62bcffbc-def0-400b-9ed2-0b12849ec6b3",
   "metadata": {},
   "outputs": [
    {
     "name": "stdout",
     "output_type": "stream",
     "text": [
      "10.0 %\n"
     ]
    }
   ],
   "source": [
    "rich_percentage = round(len(num_min_workers[num_min_workers.salary == '>50K'])/len(num_min_workers)* 100,1)\n",
    "print(rich_percentage,'%')"
   ]
  },
  {
   "cell_type": "markdown",
   "id": "6aadbe30-afa2-4c86-aff2-52899c44715f",
   "metadata": {},
   "source": [
    "## What country has the highest percentage of people that earn >50K?"
   ]
  },
  {
   "cell_type": "code",
   "execution_count": 26,
   "id": "3459d7e5-407f-42db-84b6-5f26660891f5",
   "metadata": {},
   "outputs": [
    {
     "data": {
      "text/plain": [
       "'Iran'"
      ]
     },
     "execution_count": 26,
     "metadata": {},
     "output_type": "execute_result"
    }
   ],
   "source": [
    "country_count = df['native-country'].value_counts()\n",
    "rich_country_count = df[df['salary'] == '>50K']['native-country'].value_counts()\n",
    "highest_earning_country = (rich_country_count/country_count *100).idxmax()\n",
    "highest_earning_country"
   ]
  },
  {
   "cell_type": "code",
   "execution_count": 29,
   "id": "5987f499-4857-4749-9092-4325f68ece44",
   "metadata": {},
   "outputs": [
    {
     "name": "stdout",
     "output_type": "stream",
     "text": [
      "Iran with 41.9 %\n"
     ]
    }
   ],
   "source": [
    "highest_earning_country_percentage = round(rich_country_count/country_count *100, 1).max()\n",
    "print('Iran with', highest_earning_country_percentage, '%')"
   ]
  },
  {
   "cell_type": "markdown",
   "id": "4e27df82-9b63-476d-9420-2a9534eade94",
   "metadata": {},
   "source": [
    "## Identify the most popular occupation for those who earn >50K in India.¶"
   ]
  },
  {
   "cell_type": "code",
   "execution_count": 15,
   "id": "7062bf08-aff1-4b0f-9365-fd5af624e86f",
   "metadata": {},
   "outputs": [
    {
     "data": {
      "text/plain": [
       "'Prof-specialty'"
      ]
     },
     "execution_count": 15,
     "metadata": {},
     "output_type": "execute_result"
    }
   ],
   "source": [
    "top_IN_occupation = df[(df['salary'] == '>50K') & (df['native-country'] == 'India')]['occupation'].value_counts().keys()[0]\n",
    "top_IN_occupation"
   ]
  },
  {
   "cell_type": "code",
   "execution_count": null,
   "id": "fcb4e6c0-4e63-462a-b1e8-2c26c0b10ef9",
   "metadata": {},
   "outputs": [],
   "source": []
  },
  {
   "cell_type": "code",
   "execution_count": null,
   "id": "5ee89b72-3b78-4034-8aab-8b7ca3a8c726",
   "metadata": {},
   "outputs": [],
   "source": []
  }
 ],
 "metadata": {
  "kernelspec": {
   "display_name": "Python 3",
   "language": "python",
   "name": "python3"
  },
  "language_info": {
   "codemirror_mode": {
    "name": "ipython",
    "version": 3
   },
   "file_extension": ".py",
   "mimetype": "text/x-python",
   "name": "python",
   "nbconvert_exporter": "python",
   "pygments_lexer": "ipython3",
   "version": "3.9.5"
  }
 },
 "nbformat": 4,
 "nbformat_minor": 5
}
